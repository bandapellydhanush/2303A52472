{
  "nbformat": 4,
  "nbformat_minor": 0,
  "metadata": {
    "colab": {
      "provenance": [],
      "authorship_tag": "ABX9TyODZlNP6Uh/VtFW5097xa8Z",
      "include_colab_link": true
    },
    "kernelspec": {
      "name": "python3",
      "display_name": "Python 3"
    },
    "language_info": {
      "name": "python"
    }
  },
  "cells": [
    {
      "cell_type": "markdown",
      "metadata": {
        "id": "view-in-github",
        "colab_type": "text"
      },
      "source": [
        "<a href=\"https://colab.research.google.com/github/bandapellydhanush/2303A52472/blob/main/ASSIGNMENT_5_3.ipynb\" target=\"_parent\"><img src=\"https://colab.research.google.com/assets/colab-badge.svg\" alt=\"Open In Colab\"/></a>"
      ]
    },
    {
      "cell_type": "markdown",
      "source": [
        "#**ASSIGNMENT-5.3**\n",
        "\n",
        "#**2303A52472**"
      ],
      "metadata": {
        "id": "GvFihapoGEae"
      }
    },
    {
      "cell_type": "markdown",
      "source": [
        "1. (1 ponto) Design a multi-layer ANN architecture with one input, one hidden, and one output layer. Assume a linear activation function in the output layer and a sigmoid activation function in the hidden layer.\n",
        "Write Python code for a backpropagation algorithm with gradient descent optimization to update weights and bias parameters of the ANN model with training data shown in Table 1.\n",
        "• Calculate the mean square error with training and testing data shown in Table 2.\n",
        "• Write Python code that reads the input data [x1 and x2] from the user. Predict the output with deployed ANN model.\n",
        "\n",
        "Tabela 1: Training Data\n",
        "\n",
        "x1 x2 y\n",
        "\n",
        "1 2 0.4140\n",
        "\n",
        "2 3 0.4611\n",
        "\n",
        "5 6 0.5501\n",
        "\n",
        "6 7 0.5656\n",
        "\n",
        "7 8 0.5765\n",
        "\n",
        "8 9 0.5840\n",
        "\n",
        "Tabela 2: Test Data\n",
        "\n",
        "x1 x2 y\n",
        "\n",
        "3 4 0.4992\n",
        "\n",
        "4 5 0.5285\n",
        "\n",
        "• Expected learning Outcomes from this assignment related to python\n",
        "Students are able to understand how backpropagation algorithm helps to update model parameters of multilayer ANN\n",
        "Students are able to write code in python for backpropagation algorithm\n",
        "Students are able to design architecture of ANN based on problem statement\n",
        "Students are able to derive mathematical expression for change in weights and bias parameters for different activation functions\n",
        "• Naming cinvention"
      ],
      "metadata": {
        "id": "j_chM0FuGTmF"
      }
    },
    {
      "cell_type": "code",
      "execution_count": 3,
      "metadata": {
        "colab": {
          "base_uri": "https://localhost:8080/"
        },
        "id": "n2wP7qHPGDa4",
        "outputId": "81f42c1c-2d26-4c7a-fdce-533c3f18392a"
      },
      "outputs": [
        {
          "output_type": "stream",
          "name": "stdout",
          "text": [
            "Training MSE: 0.008196792173218915\n",
            "Testing MSE: 0.0005134940948872023\n",
            "Enter x1, x2: 3 4\n",
            "Predicted Output: 0.49321927790639086\n"
          ]
        }
      ],
      "source": [
        "import numpy as np\n",
        "\n",
        "def sigmoid(x):\n",
        "    return 1 / (1 + np.exp(-x))\n",
        "\n",
        "def sigmoid_derivative(x):\n",
        "    return x * (1 - x)\n",
        "\n",
        "def train_ann_multilayer(X, y, learning_rate=0.1, epochs=1000):\n",
        "    np.random.seed(42)\n",
        "    input_size = X.shape[1]\n",
        "    hidden_size = 3  # Number of neurons in hidden layer\n",
        "    output_size = 1\n",
        "\n",
        "    weights_input_hidden = np.random.rand(input_size, hidden_size)\n",
        "    bias_hidden = np.random.rand(hidden_size)\n",
        "    weights_hidden_output = np.random.rand(hidden_size, output_size)\n",
        "    bias_output = np.random.rand(output_size)\n",
        "\n",
        "    for _ in range(epochs):\n",
        "        # Forward pass\n",
        "        hidden_layer_input = np.dot(X, weights_input_hidden) + bias_hidden\n",
        "        hidden_layer_output = sigmoid(hidden_layer_input)\n",
        "        output_layer_input = np.dot(hidden_layer_output, weights_hidden_output) + bias_output\n",
        "        output_layer_output = output_layer_input  # Linear activation\n",
        "\n",
        "        # Compute error\n",
        "        error = output_layer_output - y.reshape(-1, 1)\n",
        "\n",
        "        # Backpropagation\n",
        "        d_output = error\n",
        "        d_hidden_layer = np.dot(d_output, weights_hidden_output.T) * sigmoid_derivative(hidden_layer_output)\n",
        "\n",
        "        # Update weights and biases\n",
        "        weights_hidden_output -= learning_rate * np.dot(hidden_layer_output.T, d_output)\n",
        "        bias_output -= learning_rate * np.mean(d_output, axis=0)\n",
        "        weights_input_hidden -= learning_rate * np.dot(X.T, d_hidden_layer)\n",
        "        bias_hidden -= learning_rate * np.mean(d_hidden_layer, axis=0)\n",
        "\n",
        "    return weights_input_hidden, bias_hidden, weights_hidden_output, bias_output\n",
        "\n",
        "def mean_squared_error(y_true, y_pred):\n",
        "    return np.mean((y_true - y_pred) ** 2)\n",
        "\n",
        "def predict(X, weights_input_hidden, bias_hidden, weights_hidden_output, bias_output):\n",
        "    hidden_layer_input = np.dot(X, weights_input_hidden) + bias_hidden\n",
        "    hidden_layer_output = sigmoid(hidden_layer_input)\n",
        "    output_layer_input = np.dot(hidden_layer_output, weights_hidden_output) + bias_output\n",
        "    return output_layer_input\n",
        "\n",
        "# Training Data\n",
        "X_train = np.array([[1, 2], [2, 3], [5, 6], [6, 7], [7, 8], [8, 9]])\n",
        "y_train = np.array([0.4140, 0.4611, 0.5501, 0.5656, 0.5765, 0.5840])\n",
        "\n",
        "# Train the model\n",
        "weights_input_hidden, bias_hidden, weights_hidden_output, bias_output = train_ann_multilayer(X_train, y_train)\n",
        "\n",
        "y_train_pred = predict(X_train, weights_input_hidden, bias_hidden, weights_hidden_output, bias_output)\n",
        "train_mse = mean_squared_error(y_train, y_train_pred)\n",
        "print(\"Training MSE:\", train_mse)\n",
        "\n",
        "# Test Data\n",
        "X_test = np.array([[3, 4], [4, 5]])\n",
        "y_test = np.array([0.4992, 0.5285])\n",
        "\n",
        "y_test_pred = predict(X_test, weights_input_hidden, bias_hidden, weights_hidden_output, bias_output)\n",
        "test_mse = mean_squared_error(y_test, y_test_pred)\n",
        "print(\"Testing MSE:\", test_mse)\n",
        "\n",
        "# User Input Prediction\n",
        "user_input = np.array(list(map(float, input(\"Enter x1, x2: \").split())))\n",
        "prediction = predict(user_input.reshape(1, -1), weights_input_hidden, bias_hidden, weights_hidden_output, bias_output)\n",
        "print(\"Predicted Output:\", prediction[0][0])"
      ]
    }
  ]
}