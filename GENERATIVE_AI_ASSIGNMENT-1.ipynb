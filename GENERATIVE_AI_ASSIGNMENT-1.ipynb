{
  "nbformat": 4,
  "nbformat_minor": 0,
  "metadata": {
    "colab": {
      "provenance": []
    },
    "kernelspec": {
      "name": "python3",
      "display_name": "Python 3"
    },
    "language_info": {
      "name": "python"
    }
  },
  "cells": [
    {
      "cell_type": "markdown",
      "source": [
        "Write Python code from scratch to find error metrics of deep learning model. Actual values and deep learning model predicted values are shown in Table 1. Also compare the results with the outcomes of libraries"
      ],
      "metadata": {
        "id": "Wu3e1Wt0rLXR"
      }
    },
    {
      "cell_type": "code",
      "execution_count": null,
      "metadata": {
        "colab": {
          "base_uri": "https://localhost:8080/"
        },
        "id": "BuF2A3ccq7gO",
        "outputId": "64b96d4a-59c2-4748-e470-98939eb3e71d"
      },
      "outputs": [
        {
          "output_type": "stream",
          "name": "stdout",
          "text": [
            "Mean Absolute Error : 0.46\n"
          ]
        }
      ],
      "source": [
        "from sklearn.metrics import mean_absolute_error\n",
        "\n",
        "Y_actual = [20, 30, 40, 50, 60]\n",
        "Y_pred = [20.5, 30.3, 40.2, 50.6, 60.7]\n",
        "\n",
        "\n",
        "MAE= mean_absolute_error(Y_actual, Y_pred)\n",
        "\n",
        "print(f\"Mean Absolute Error : {MAE:.2f}\")\n"
      ]
    },
    {
      "cell_type": "markdown",
      "source": [
        "MEAN SQUARE ERROR"
      ],
      "metadata": {
        "id": "s4qnvKSwrQX4"
      }
    },
    {
      "cell_type": "code",
      "source": [
        "from sklearn.metrics import mean_squared_error\n",
        "\n",
        "MSE= mean_squared_error(Y_actual, Y_pred)\n",
        "print(f\"Mean Squared Error : {MSE:.2f}\")\n"
      ],
      "metadata": {
        "colab": {
          "base_uri": "https://localhost:8080/"
        },
        "id": "a_V6eI62rTxq",
        "outputId": "c43eceea-614e-4e51-d110-416516291a4c"
      },
      "execution_count": null,
      "outputs": [
        {
          "output_type": "stream",
          "name": "stdout",
          "text": [
            "Mean Squared Error : 0.25\n"
          ]
        }
      ]
    },
    {
      "cell_type": "markdown",
      "source": [
        "ROOT MEAN SQUARE ERROR"
      ],
      "metadata": {
        "id": "uZpqURVlrgGx"
      }
    },
    {
      "cell_type": "code",
      "source": [
        "import numpy as np\n",
        "\n",
        "rmse_numpy = np.sqrt(np.mean((np.array(Y_actual) - np.array(Y_pred)) ** 2))\n",
        "print(f\"RMSE using NumPy: {rmse_numpy:.4f}\")\n"
      ],
      "metadata": {
        "colab": {
          "base_uri": "https://localhost:8080/"
        },
        "id": "wVzP7tSLrkSz",
        "outputId": "8e445e3c-6fd7-40cb-a59f-7e8166973fe0"
      },
      "execution_count": null,
      "outputs": [
        {
          "output_type": "stream",
          "name": "stdout",
          "text": [
            "RMSE using NumPy: 0.4960\n"
          ]
        }
      ]
    },
    {
      "cell_type": "markdown",
      "source": [
        "AMONG THE 3 ERROR METRICS MSE HAS GIVEN THE LEAST ERROR = 0.25"
      ],
      "metadata": {
        "id": "nA_810Zvrqht"
      }
    },
    {
      "cell_type": "markdown",
      "source": [
        "QUESTION 2"
      ],
      "metadata": {
        "id": "sTLaFN7Xrwft"
      }
    },
    {
      "cell_type": "markdown",
      "source": [
        "Write python code from scratch to find evaluation metrics of deep learning model. Actual values and deep learning model predicted values are shown in Table 2. Also compare the results with outcome of libraries"
      ],
      "metadata": {
        "id": "NPv4LxsXrzX2"
      }
    },
    {
      "cell_type": "code",
      "source": [
        "from sklearn.metrics import confusion_matrix, ConfusionMatrixDisplay\n",
        "\n",
        "y_actual = [0, 0, 1, 1, 2, 0, 0, 0, 1, 0, 2, 0, 0, 1, 1, 2, 2, 1, 0, 2, 1, 0, 2, 2, 0, 2, 1, 2, 2, 2]\n",
        "y_pred =   [0, 0, 1, 0, 2, 0, 0, 0, 1, 2, 2, 0, 0, 1, 1, 2, 2, 1, 2, 2, 1, 0, 2, 2, 0, 2, 1, 2, 2, 2]\n",
        "\n",
        "cm = confusion_matrix(y_actual, y_pred)\n",
        "\n",
        "print(\"Confusion Matrix :\\n\", cm)\n"
      ],
      "metadata": {
        "colab": {
          "base_uri": "https://localhost:8080/"
        },
        "id": "hopHh07br3e-",
        "outputId": "a2d6d4e3-322a-4174-b601-00c8d4c165be"
      },
      "execution_count": null,
      "outputs": [
        {
          "output_type": "stream",
          "name": "stdout",
          "text": [
            "Confusion Matrix :\n",
            " [[ 9  0  2]\n",
            " [ 1  7  0]\n",
            " [ 0  0 11]]\n"
          ]
        }
      ]
    },
    {
      "cell_type": "markdown",
      "source": [
        "ACCURACY"
      ],
      "metadata": {
        "id": "OUuYemehr9XW"
      }
    },
    {
      "cell_type": "code",
      "source": [
        "from sklearn.metrics import accuracy_score\n",
        "\n",
        "accuracy = accuracy_score(y_actual, y_pred)\n",
        "print(f\"Accuracy: {accuracy * 100:.2f}%\")\n"
      ],
      "metadata": {
        "colab": {
          "base_uri": "https://localhost:8080/"
        },
        "id": "hN64bSOtsAcy",
        "outputId": "97b1fa58-4636-4f29-96af-3d20b9b8f61c"
      },
      "execution_count": null,
      "outputs": [
        {
          "output_type": "stream",
          "name": "stdout",
          "text": [
            "Accuracy: 90.00%\n"
          ]
        }
      ]
    },
    {
      "cell_type": "markdown",
      "source": [
        "#PRECISION\n"
      ],
      "metadata": {
        "id": "HuVcUEjasGRK"
      }
    },
    {
      "cell_type": "code",
      "source": [
        "from sklearn.metrics import precision_score\n",
        "\n",
        "precision = precision_score(y_actual, y_pred, average='macro')\n",
        "print(f\"Precision: {precision:.2f}\")\n"
      ],
      "metadata": {
        "colab": {
          "base_uri": "https://localhost:8080/"
        },
        "id": "zwWda-95sLlw",
        "outputId": "f5f56051-880a-424f-b783-27c92bea968d"
      },
      "execution_count": null,
      "outputs": [
        {
          "output_type": "stream",
          "name": "stdout",
          "text": [
            "Precision: 0.92\n"
          ]
        }
      ]
    },
    {
      "cell_type": "markdown",
      "source": [
        "F1 -SCORE"
      ],
      "metadata": {
        "id": "kThwnOxNsP0O"
      }
    },
    {
      "cell_type": "code",
      "source": [
        "from sklearn.metrics import f1_score\n",
        "\n",
        "f1 = f1_score(y_actual, y_pred, average='weighted')\n",
        "print(f\"F1-Score {f1:.2f}\")\n",
        "\n"
      ],
      "metadata": {
        "colab": {
          "base_uri": "https://localhost:8080/"
        },
        "id": "mKVMWyBtsUJl",
        "outputId": "b4d18260-5790-4a3d-94c7-a99e1eb7e0b9"
      },
      "execution_count": null,
      "outputs": [
        {
          "output_type": "stream",
          "name": "stdout",
          "text": [
            "F1-Score 0.90\n"
          ]
        }
      ]
    },
    {
      "cell_type": "markdown",
      "source": [
        "RECALL"
      ],
      "metadata": {
        "id": "vcwd6n2RsYP1"
      }
    },
    {
      "cell_type": "code",
      "source": [
        "from sklearn.metrics import recall_score\n",
        "\n",
        "recall = recall_score(y_actual, y_pred, average='weighted')\n",
        "print(\"Recall:\", recall)\n",
        "\n"
      ],
      "metadata": {
        "colab": {
          "base_uri": "https://localhost:8080/"
        },
        "id": "d4kK_wC-scpE",
        "outputId": "1ca4b27b-3acb-4060-e126-16df06005a6a"
      },
      "execution_count": null,
      "outputs": [
        {
          "output_type": "stream",
          "name": "stdout",
          "text": [
            "Recall: 0.9\n"
          ]
        }
      ]
    }
  ]
}